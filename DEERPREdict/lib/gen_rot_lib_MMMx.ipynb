{
 "cells": [
  {
   "cell_type": "code",
   "execution_count": 2,
   "id": "41f6bf79",
   "metadata": {},
   "outputs": [],
   "source": [
    "from scipy.io import loadmat\n",
    "import mdtraj as md\n",
    "import numpy as np"
   ]
  },
  {
   "cell_type": "markdown",
   "id": "5ad812f0",
   "metadata": {},
   "source": [
    "### Generate traj, pdb, and weights for mtsl, basl, and ma-proxyl"
   ]
  },
  {
   "cell_type": "code",
   "execution_count": 3,
   "id": "6c8fd628",
   "metadata": {},
   "outputs": [
    {
     "name": "stdout",
     "output_type": "stream",
     "text": [
      "N2\n",
      "N1\n",
      "O2\n",
      "O1\n",
      "N2\n",
      "N1\n",
      "O3\n",
      "O1\n",
      "N3\n",
      "N1\n",
      "O4\n",
      "O1\n"
     ]
    }
   ],
   "source": [
    "path = '../../../Dropbox/MMMx/'\n",
    "for label,resname,pos in zip(['R1A','BAS','MA1'],['MTSSL','BASL','MAP'],[29,27,37]):\n",
    "    data = loadmat(f'{path}/rotamer_libraries/rotamer_library_{label}.mat', \n",
    "                   struct_as_record=False, squeeze_me=True)\n",
    "    rot_lib = data['rot_lib']\n",
    "\n",
    "    top = md.Topology()\n",
    "    chain = top.add_chain()\n",
    "    res = top.add_residue(resname, chain)\n",
    "    cnt = 1\n",
    "    for at_name,at_num in zip(rot_lib.atom_tags,rot_lib.elements):\n",
    "        \n",
    "        if cnt == pos:\n",
    "            print(at_name)\n",
    "            at_name = 'N1'\n",
    "            print(at_name)\n",
    "        if cnt == pos+1:\n",
    "            print(at_name)\n",
    "            at_name = 'O1'\n",
    "            print(at_name)\n",
    "            \n",
    "        top.add_atom(at_name, element=md.element.Element.getByAtomicNumber(at_num), residue=res)\n",
    "        cnt += 1\n",
    "    xyz = np.array([rot_lib.rotamers[i].coor for i in range(len(rot_lib.rotamers))])\n",
    "    unitcell_lengths = np.full((xyz.shape[0],3),10)\n",
    "    unitcell_angles = np.full((xyz.shape[0],3),90)\n",
    "    time = np.arange(xyz.shape[0])\n",
    "    traj = md.Trajectory(xyz/10, top, time, unitcell_lengths, unitcell_angles)\n",
    "    traj.save_dcd(f'{label}.dcd')\n",
    "    traj[0].save_pdb(f'{label}.pdb')\n",
    "\n",
    "    np.savetxt(f'{label}_weights.txt',rot_lib.populations)"
   ]
  }
 ],
 "metadata": {
  "kernelspec": {
   "display_name": "Python 3 (ipykernel)",
   "language": "python",
   "name": "python3"
  },
  "language_info": {
   "codemirror_mode": {
    "name": "ipython",
    "version": 3
   },
   "file_extension": ".py",
   "mimetype": "text/x-python",
   "name": "python",
   "nbconvert_exporter": "python",
   "pygments_lexer": "ipython3",
   "version": "3.8.16"
  }
 },
 "nbformat": 4,
 "nbformat_minor": 5
}
